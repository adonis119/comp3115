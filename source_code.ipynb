{
 "cells": [
  {
   "cell_type": "markdown",
   "id": "fc8a5458",
   "metadata": {},
   "source": [
    "# Comp3115 Group J Sorce Code"
   ]
  },
  {
   "cell_type": "code",
   "execution_count": 42,
   "id": "63ee1b25",
   "metadata": {},
   "outputs": [],
   "source": [
    "# Library\n",
    "import numpy as np\n",
    "import pandas as pd\n",
    "import seaborn as sns\n",
    "import matplotlib.pyplot as plt\n",
    "%matplotlib inline \n",
    "import requests\n",
    "from tqdm import tqdm # for making progress bar\n",
    "from time import gmtime, strftime, time\n",
    "import urllib.parse\n",
    "from sklearn import decomposition\n",
    "from sklearn import preprocessing\n",
    "from sklearn.model_selection import cross_val_predict\n",
    "from sklearn.model_selection import cross_val_score\n",
    "from sklearn.metrics import confusion_matrix\n",
    "from sklearn.neural_network import MLPClassifier"
   ]
  },
  {
   "cell_type": "markdown",
   "id": "dd3cbbb7",
   "metadata": {},
   "source": [
    "## Task 1"
   ]
  },
  {
   "cell_type": "markdown",
   "id": "3483a17e",
   "metadata": {},
   "source": [
    "### Step 1"
   ]
  },
  {
   "cell_type": "code",
   "execution_count": null,
   "id": "2ed47da7",
   "metadata": {},
   "outputs": [],
   "source": [
    "# Task 1"
   ]
  },
  {
   "cell_type": "markdown",
   "id": "109c9cdb",
   "metadata": {},
   "source": [
    "## Task 2"
   ]
  },
  {
   "cell_type": "markdown",
   "id": "b5a827cf",
   "metadata": {},
   "source": [
    "### Step 1"
   ]
  },
  {
   "cell_type": "code",
   "execution_count": null,
   "id": "dcb02d04",
   "metadata": {},
   "outputs": [],
   "source": [
    "# Task 2"
   ]
  },
  {
   "cell_type": "markdown",
   "id": "f9d79aca",
   "metadata": {},
   "source": [
    "## Task 3"
   ]
  },
  {
   "cell_type": "markdown",
   "id": "1a54e982",
   "metadata": {},
   "source": [
    "### Step 1"
   ]
  },
  {
   "cell_type": "code",
   "execution_count": null,
   "id": "93eb3689",
   "metadata": {},
   "outputs": [],
   "source": [
    "# Task 3"
   ]
  },
  {
   "cell_type": "markdown",
   "id": "c74eab67",
   "metadata": {},
   "source": [
    "## Task 4: Possible factors that affect death rate"
   ]
  },
  {
   "cell_type": "markdown",
   "id": "aad8fd75",
   "metadata": {},
   "source": [
    "### Data fetching"
   ]
  },
  {
   "cell_type": "code",
   "execution_count": 4,
   "id": "6b210b9c",
   "metadata": {},
   "outputs": [
    {
     "name": "stderr",
     "output_type": "stream",
     "text": [
      "100%|█████████████████████████████████████████| 698/698 [11:22<00:00,  1.02it/s]\n"
     ]
    }
   ],
   "source": [
    "def generateAPILinks(file_url = 'http://www.chp.gov.hk/files/misc/enhanced_sur_covid_19_eng.csv', start = '20200101', end = strftime('%Y%m%d', gmtime(time() - 3600 * 24))):\n",
    "  response = requests.get(f'https://api.data.gov.hk/v1/historical-archive/list-file-versions?url={urllib.parse.quote_plus(file_url)}&start={start}&end={end}')\n",
    "  json = response.json()\n",
    "  return [f'https://api.data.gov.hk/v1/historical-archive/get-file?url={urllib.parse.quote_plus(file_url)}&time=' + t for t in json['timestamps']]\n",
    "\n",
    "enhanced_sur_covid_19_urls = generateAPILinks('http://www.chp.gov.hk/files/misc/enhanced_sur_covid_19_eng.csv')\n",
    "\n",
    "enhanced_sur_covid_19_df = pd.DataFrame()\n",
    "for u in tqdm(enhanced_sur_covid_19_urls):\n",
    "  enhanced_sur_covid_19_df = pd.concat([enhanced_sur_covid_19_df, pd.read_csv(u, index_col=0)])\n",
    "enhanced_sur_covid_19_df.to_csv('enhanced_sur_covid_19_eng.csv')"
   ]
  },
  {
   "cell_type": "markdown",
   "id": "7b9b3111",
   "metadata": {},
   "source": [
    "### Data cleaning"
   ]
  },
  {
   "cell_type": "code",
   "execution_count": 5,
   "id": "e61b24f8",
   "metadata": {},
   "outputs": [
    {
     "name": "stderr",
     "output_type": "stream",
     "text": [
      "/Users/adonis/opt/anaconda3/lib/python3.9/site-packages/IPython/core/interactiveshell.py:3444: DtypeWarning: Columns (2,4,5,8,9,11,12,13) have mixed types.Specify dtype option on import or set low_memory=False.\n",
      "  exec(code_obj, self.user_global_ns, self.user_ns)\n",
      "/Users/adonis/opt/anaconda3/lib/python3.9/site-packages/numpy/lib/arraysetops.py:583: FutureWarning: elementwise comparison failed; returning scalar instead, but in the future will perform elementwise comparison\n",
      "  mask |= (ar1 == a)\n"
     ]
    }
   ],
   "source": [
    "# Import dataframe\n",
    "enhanced_sur_covid_19_df = pd.read_csv('enhanced_sur_covid_19_eng.csv',index_col=0)\n",
    "\n",
    "# Data Cleaning\n",
    "enhanced_sur_covid_19_df.drop(enhanced_sur_covid_19_df.iloc[:, [\n",
    "                              1, 10, 11, 12]], axis=1, inplace=True)\n",
    "enhanced_sur_covid_19_df = enhanced_sur_covid_19_df[\n",
    "    enhanced_sur_covid_19_df['Hospitalised/Discharged/Deceased'].isin(['Discharged', 'Deceased'])]\n",
    "enhanced_sur_covid_19_df = enhanced_sur_covid_19_df[\n",
    "    enhanced_sur_covid_19_df['HK/Non-HK resident'].isin(['HK resident', 'Non-HK resident'])]\n",
    "enhanced_sur_covid_19_df = enhanced_sur_covid_19_df[\n",
    "    enhanced_sur_covid_19_df['Report date'] != '16/0了7/2020']\n",
    "enhanced_sur_covid_19_df = enhanced_sur_covid_19_df[\n",
    "    enhanced_sur_covid_19_df['Date of onset'].str.contains('/') == True]\n",
    "enhanced_sur_covid_19_df = enhanced_sur_covid_19_df[\n",
    "    enhanced_sur_covid_19_df['Age'] != '1 month']\n",
    "enhanced_sur_covid_19_df = enhanced_sur_covid_19_df[\n",
    "    enhanced_sur_covid_19_df['Age'] != '<1']\n",
    "\n",
    "# Export\n",
    "enhanced_sur_covid_19_df.to_csv('enhanced_sur_covid_19_eng_clean.csv')"
   ]
  },
  {
   "cell_type": "markdown",
   "id": "f4dc1d96",
   "metadata": {},
   "source": [
    "### Simple Visual"
   ]
  },
  {
   "cell_type": "code",
   "execution_count": 53,
   "id": "2c72158b",
   "metadata": {},
   "outputs": [
    {
     "name": "stderr",
     "output_type": "stream",
     "text": [
      "/Users/adonis/opt/anaconda3/lib/python3.9/site-packages/IPython/core/interactiveshell.py:3444: DtypeWarning: Columns (4,7,8) have mixed types.Specify dtype option on import or set low_memory=False.\n",
      "  exec(code_obj, self.user_global_ns, self.user_ns)\n",
      "/Users/adonis/opt/anaconda3/lib/python3.9/site-packages/numpy/lib/arraysetops.py:583: FutureWarning: elementwise comparison failed; returning scalar instead, but in the future will perform elementwise comparison\n",
      "  mask |= (ar1 == a)\n"
     ]
    },
    {
     "data": {
      "image/png": "[encoded data removed]",
      "text/plain": [
       "<Figure size 432x288 with 6 Axes>"
      ]
     },
     "metadata": {
      "needs_background": "light"
     },
     "output_type": "display_data"
    }
   ],
   "source": [
    "# Import dataframe\n",
    "df = pd.read_csv('enhanced_sur_covid_19_eng_clean.csv', index_col=0)\n",
    "\n",
    "# Filtering\n",
    "death = df[df['Hospitalised/Discharged/Deceased'] == 'Deceased']\n",
    "discharge = df[df['Hospitalised/Discharged/Deceased'] == 'Discharged']\n",
    "\n",
    "# Simple Visual\n",
    "# sns.countplot(data=death,x='Age')\n",
    "# plt.figure()\n",
    "# sns.countplot(data=death,x='Gender')\n",
    "# plt.figure()\n",
    "# sns.countplot(data=death,x='HK/Non-HK resident')\n",
    "# plt.figure()\n",
    "# sns.countplot(data=discharge,x='Age')\n",
    "# plt.figure()\n",
    "# sns.countplot(data=discharge,x='Gender')\n",
    "# plt.figure()\n",
    "# sns.countplot(data=discharge,x='HK/Non-HK resident')\n",
    "# plt.figure()"
   ]
  },
  {
   "cell_type": "code",
   "execution_count": null,
   "id": "222843a7",
   "metadata": {},
   "outputs": [],
   "source": []
  }
 ],
 "metadata": {
  "kernelspec": {
   "display_name": "Python 3 (ipykernel)",
   "language": "python",
   "name": "python3"
  },
  "language_info": {
   "codemirror_mode": {
    "name": "ipython",
    "version": 3
   },
   "file_extension": ".py",
   "mimetype": "text/x-python",
   "name": "python",
   "nbconvert_exporter": "python",
   "pygments_lexer": "ipython3",
   "version": "3.9.7"
  }
 },
 "nbformat": 4,
 "nbformat_minor": 5
}
